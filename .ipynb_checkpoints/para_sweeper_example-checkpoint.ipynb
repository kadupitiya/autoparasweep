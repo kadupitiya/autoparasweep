{
 "cells": [
  {
   "cell_type": "code",
   "execution_count": 1,
   "metadata": {},
   "outputs": [
    {
     "name": "stdout",
     "output_type": "stream",
     "text": [
      "E:\\archivedData\\para_sweep\n"
     ]
    }
   ],
   "source": [
    "from codes.SSH import SSH\n",
    "from codes.BagOfJobs import BagOfJobs\n",
    "import os, sys\n",
    "import numpy as np\n",
    "import itertools\n",
    "import random\n",
    "import json\n",
    "import paramiko\n",
    "from stat import S_ISDIR\n",
    "print(os.getcwd())\n",
    "import datetime"
   ]
  },
  {
   "cell_type": "code",
   "execution_count": 2,
   "metadata": {},
   "outputs": [
    {
     "name": "stdout",
     "output_type": "stream",
     "text": [
      "app-configs\n",
      "codes\n",
      "confinement.json\n",
      "para_sweep_GUI.ipynb\n",
      "para_sweeper_example.ipynb\n",
      "run-config\n",
      "ssh\n",
      "ssh-config\n",
      "sweep_folder\n"
     ]
    }
   ],
   "source": [
    "!ls"
   ]
  },
  {
   "cell_type": "code",
   "execution_count": 3,
   "metadata": {
    "collapsed": true
   },
   "outputs": [],
   "source": [
    "# Example execute\n",
    "#ssh_client = SSH(username = 'kadu', hostname = 'bigred2.uits.iu.edu', port = 22, ssh_private_key = 'ssh-config/kadu_bigred')\n",
    "ssh_client = SSH(username = 'kadu', hostname = 'bigred2.uits.iu.edu', port = 22, ssh_private_key = 'ssh-config/kadu_bigred')\n",
    "executable_name = 'md_simulation_confined_ions' \n",
    "executable_folder = 'program'\n",
    "sweep_folder = 'sim_runs'\n",
    "job_submission_template = 'job_submit_template'\n",
    "job_submit_cmd = 'qsub'\n",
    "\n",
    "# copy executable, infiles, outfiles, and job template, etc\n",
    "local_path = 'sweep_folder/confinement' \n",
    "remote_path = '/gpfs/home/k/a/kadu/BigRed2/'\n",
    "__base_dir = os.path.split(local_path)[1]\n",
    "root_path = os.path.join(remote_path, __base_dir).replace(\"\\\\\", \"/\")\n",
    "\n",
    "ssh_client.put_all_files(local_path, remote_path)\n",
    "\n",
    "# Change the permission of the executable\n",
    "executable_path = os.path.join(root_path, executable_folder, executable_name).replace(\"\\\\\", \"/\")\n",
    "cmd = 'chmod +x ' + executable_path\n",
    "ssh_client.execute_command(cmd)\n",
    "\n",
    "# Make a new folder for parasweep\n",
    "try:\n",
    "    sweep_folder_path = os.path.join(root_path, sweep_folder).replace(\"\\\\\", \"/\")\n",
    "    ssh_client.sftp.mkdir(sweep_folder_path)\n",
    "except:\n",
    "    pass\n",
    "\n",
    "bagOfJobs = BagOfJobs(job_limit=1, config_file='app-configs/confinement.json')\n",
    "#len(bagOfJobs.get_job_param_list())\n",
    "job_generator = bagOfJobs.generate_job_params()\n",
    "for job in job_generator:\n",
    "    #print(job)\n",
    "    # Make a new folder for parasweep\n",
    "    dir_name = job.strip().replace(\" \", \"_\").replace(\"-\", \"\")    \n",
    "    job_dir = os.path.join(sweep_folder_path, dir_name).replace(\"\\\\\", \"/\")\n",
    "    cmd = 'cp -a '+ os.path.join(root_path, executable_folder, '').replace(\"\\\\\", \"/\") + ' ' + job_dir\n",
    "    ssh_client.execute_command(cmd)\n",
    "    \n",
    "    # Copy job submission pbs\n",
    "    job_script_name = os.path.join(job_dir, dir_name).replace(\"\\\\\", \"/\")\n",
    "    cmd = \"cat \" + os.path.join(root_path, job_submission_template).replace(\"\\\\\", \"/\") + \" | sed -e 's/ALL_USER_GIVEN_PARAMS/''\" + job.strip() + \"''/g' > \"+ job_script_name\n",
    "    ssh_client.execute_command(cmd)\n",
    "    \n",
    "    # qsub the job\n",
    "    cmd = 'cd ' + job_dir + ' && ' + job_submit_cmd + ' ' + job_script_name\n",
    "    ssh_client.execute_command(cmd)\n",
    "'''    \n",
    "'''\n",
    "ssh_client.close_ssh()\n",
    "\n"
   ]
  },
  {
   "cell_type": "code",
   "execution_count": 4,
   "metadata": {
    "collapsed": true
   },
   "outputs": [],
   "source": [
    "#local_path_2 = 'E:/GoogleDriveData/PHD_DATA/2nd Year/summer_semester/RA/7th_week_17_21_062019/para_sweep/' \n",
    "#remote_path_2 = '/gpfs/home/k/a/kadu/BigRed2/nanoconfinement_sweep'\n",
    "#ssh_client.get_all_files(remote_path_2, local_path_2)"
   ]
  },
  {
   "cell_type": "code",
   "execution_count": 5,
   "metadata": {
    "collapsed": true
   },
   "outputs": [],
   "source": [
    "ssh_client = SSH(username = 'kadu', hostname = 'bigred2.uits.iu.edu', port = 22, ssh_private_key = 'ssh-config/kadu_bigred')\n"
   ]
  },
  {
   "cell_type": "code",
   "execution_count": 6,
   "metadata": {},
   "outputs": [
    {
     "name": "stdout",
     "output_type": "stream",
     "text": [
      "\n",
      "\n"
     ]
    }
   ],
   "source": [
    "#cmd = 'qstat -u kadu -R'\n",
    "#cmd = \"qstat -u kadu | awk '{if (($10==\\\"alloc\\\") || ($5==\\\"idle\\\")) sum += $4} END {print sum}'\"\n",
    "#cmd = \"qselect -s Q -u kadu | wc -l\"\n",
    "#cmd = \"qselect -s Q -u kadu | awk '{sum += 1} END {print sum}'\"\n",
    "cmd =  \"qstat -u kadu | tail -n +6 | awk '{if ($10==\\\"C\\\") sum += 1} END {print sum}'\"\n",
    "\n",
    "(std_out_st, std_error_st)  = ssh_client.execute_command(cmd)\n",
    "print(std_out_st)"
   ]
  },
  {
   "cell_type": "code",
   "execution_count": 7,
   "metadata": {},
   "outputs": [
    {
     "name": "stdout",
     "output_type": "stream",
     "text": [
      "C\n"
     ]
    }
   ],
   "source": [
    "job_id = '2893647'\n",
    "user_name = 'kadu'\n",
    "job_status = 'C'\n",
    "try:\n",
    "    cmd =  \"qstat -u {} {} | tail -n +6 | awk '{{print $10}}'\".format(user_name, job_id)\n",
    "    (std_out_st, std_error_st)  = ssh_client.execute_command(cmd)\n",
    "    job_status = std_out_st.split()[0]\n",
    "\n",
    "    if not job_status:\n",
    "        job_status = 'C'\n",
    "except:\n",
    "    pass\n",
    "print(job_status)"
   ]
  },
  {
   "cell_type": "code",
   "execution_count": null,
   "metadata": {},
   "outputs": [],
   "source": [
    "import threading\n",
    "\n",
    "class Foo(object):\n",
    "    instance_count = 0\n",
    "\n",
    "def inc_by(n):\n",
    "    for i in range(n):\n",
    "        Foo.instance_count += 1\n",
    "\n",
    "threads = [threading.Thread(target=inc_by, args=(100000,)) for thread_nr in range(100)]\n",
    "for thread in threads: thread.start()\n",
    "for thread in threads: thread.join()\n",
    "\n",
    "print(Foo.instance_count) # Expected 10M for threadsafe ops, I get around 5M"
   ]
  },
  {
   "cell_type": "code",
   "execution_count": null,
   "metadata": {
    "collapsed": true
   },
   "outputs": [],
   "source": [
    "Foo.lock = threading.Lock()\n",
    "\n",
    "def interlocked_inc(n):\n",
    "    for i in range(n):\n",
    "        with Foo.lock:\n",
    "            Foo.instance_count += 1\n",
    "\n",
    "threads = [threading.Thread(target=interlocked_inc, args=(100000,)) for thread_nr in range(100)]\n",
    "for thread in threads: thread.start()\n",
    "for thread in threads: thread.join()\n",
    "\n",
    "print(Foo.instance_count)"
   ]
  }
 ],
 "metadata": {
  "kernelspec": {
   "display_name": "Python 3",
   "language": "python",
   "name": "python3"
  },
  "language_info": {
   "codemirror_mode": {
    "name": "ipython",
    "version": 3
   },
   "file_extension": ".py",
   "mimetype": "text/x-python",
   "name": "python",
   "nbconvert_exporter": "python",
   "pygments_lexer": "ipython3",
   "version": "3.6.3"
  }
 },
 "nbformat": 4,
 "nbformat_minor": 2
}
